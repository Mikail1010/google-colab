{
  "nbformat": 4,
  "nbformat_minor": 0,
  "metadata": {
    "colab": {
      "name": "Copying files from a github repo to drive.ipynb",
      "provenance": []
    },
    "kernelspec": {
      "name": "python3",
      "display_name": "Python 3"
    },
    "language_info": {
      "name": "python"
    }
  },
  "cells": [
    {
      "cell_type": "markdown",
      "metadata": {
        "id": "_GM8r-9T9Ve2"
      },
      "source": [
        "#Cloning the repository\n",
        "\n",
        "Get the https url from the repositry home page and replace the url here"
      ]
    },
    {
      "cell_type": "code",
      "metadata": {
        "colab": {
          "base_uri": "https://localhost:8080/"
        },
        "id": "MTOEFtDjjfne",
        "outputId": "3c513f39-faff-42f0-9514-c8c3dd07c51d"
      },
      "source": [
        "!git clone https://github.com/Mikail1010/google-colab.git"
      ],
      "execution_count": null,
      "outputs": [
        {
          "output_type": "stream",
          "text": [
            "Cloning into 'google-colab'...\n",
            "remote: Enumerating objects: 3, done.\u001b[K\n",
            "remote: Counting objects: 100% (3/3), done.\u001b[K\n",
            "remote: Compressing objects: 100% (2/2), done.\u001b[K\n",
            "remote: Total 3 (delta 0), reused 0 (delta 0), pack-reused 0\u001b[K\n",
            "Unpacking objects: 100% (3/3), done.\n"
          ],
          "name": "stdout"
        }
      ]
    },
    {
      "cell_type": "markdown",
      "metadata": {
        "id": "sBgm4eBr_AVI"
      },
      "source": [
        "#Mount the drive in google colab\n",
        "\n",
        "Click on the link in the output an\n",
        "\n",
        "*   Click the login link in the output\n",
        "*   Login using the required google account\n",
        "*   Copy and paste the code here\n",
        "\n",
        "\n",
        "\n"
      ]
    },
    {
      "cell_type": "code",
      "metadata": {
        "colab": {
          "base_uri": "https://localhost:8080/"
        },
        "id": "CNiBDKTxkDPt",
        "outputId": "45b787bd-87ca-4861-92da-1727ea1e0826"
      },
      "source": [
        "from google.colab import drive\n",
        "\n",
        "drive.mount('/content/drive')"
      ],
      "execution_count": null,
      "outputs": [
        {
          "output_type": "stream",
          "text": [
            "Mounted at /content/drive\n"
          ],
          "name": "stdout"
        }
      ]
    },
    {
      "cell_type": "markdown",
      "metadata": {
        "id": "ZSZIF4D2--7f"
      },
      "source": [
        "#Copy files from the cloned repo to the destination in Google drive\n",
        "\n",
        "Option -r is required to copy folders and the sub folders"
      ]
    },
    {
      "cell_type": "code",
      "metadata": {
        "id": "hHdxWVT8kNbK"
      },
      "source": [
        "%cp -r '/content/google-colab' '/content/drive/MyDrive/'"
      ],
      "execution_count": null,
      "outputs": []
    }
  ]
}